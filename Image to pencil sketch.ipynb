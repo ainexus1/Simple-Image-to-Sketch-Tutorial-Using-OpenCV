{
 "cells": [
  {
   "cell_type": "code",
   "execution_count": null,
   "id": "ca105f45-2fd0-4f5f-a72c-bc86dbb6f52f",
   "metadata": {},
   "outputs": [],
   "source": [
    "import cv2\n",
    "image = cv2.imread(\"\")  #place your image here\n",
    "cv2.imshow(\"sample1\", image)\n",
    "cv2.waitKey(0)"
   ]
  },
  {
   "cell_type": "code",
   "execution_count": null,
   "id": "96b50533-93e1-49c2-b8c4-dc1a49b6a31e",
   "metadata": {},
   "outputs": [],
   "source": [
    "gray_image = cv2.cvtColor(image, cv2.COLOR_BGR2GRAY)\n",
    "cv2.imshow(\"sample2\", gray_image)\n",
    "cv2.waitKey(0)"
   ]
  },
  {
   "cell_type": "code",
   "execution_count": null,
   "id": "713bfa90-797d-46c4-941f-56b35c48d7bd",
   "metadata": {},
   "outputs": [],
   "source": [
    "inverted_image = 255 - gray_image\n",
    "cv2.imshow(\"sample3\", inverted_image)\n",
    "cv2.waitKey(0)"
   ]
  },
  {
   "cell_type": "code",
   "execution_count": null,
   "id": "c01cbccc-fe91-47c6-aef3-d20fa529a8ef",
   "metadata": {},
   "outputs": [],
   "source": [
    "blurred = cv2.GaussianBlur(inverted_image, (21, 21),0)"
   ]
  },
  {
   "cell_type": "code",
   "execution_count": null,
   "id": "82106622-2525-431f-8a4f-43801b65ca1a",
   "metadata": {},
   "outputs": [],
   "source": [
    "inverted_blurred = 255 - blurred\n",
    "pencil_sketch = cv2.divide(gray_image, inverted_blurred, scale=256.0)\n",
    "cv2.imshow(\"sample4\", pencil_sketch)\n",
    "cv2.waitKey(0)"
   ]
  },
  {
   "cell_type": "code",
   "execution_count": null,
   "id": "1ce47d41-b2bd-4afa-91eb-5d05fb272633",
   "metadata": {},
   "outputs": [],
   "source": [
    "cv2.imshow(\"original_image\", image)\n",
    "cv2.imshow(\"pencil sketch\", pencil_sketch)\n",
    "cv2.waitKey(0)"
   ]
  }
 ],
 "metadata": {
  "kernelspec": {
   "display_name": "Python 3 (ipykernel)",
   "language": "python",
   "name": "python3"
  },
  "language_info": {
   "codemirror_mode": {
    "name": "ipython",
    "version": 3
   },
   "file_extension": ".py",
   "mimetype": "text/x-python",
   "name": "python",
   "nbconvert_exporter": "python",
   "pygments_lexer": "ipython3",
   "version": "3.11.5"
  }
 },
 "nbformat": 4,
 "nbformat_minor": 5
}
